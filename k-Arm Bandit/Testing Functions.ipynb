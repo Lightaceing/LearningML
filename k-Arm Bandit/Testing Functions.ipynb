{
 "cells": [
  {
   "cell_type": "code",
   "execution_count": null,
   "id": "2d37a8f3",
   "metadata": {},
   "outputs": [],
   "source": [
    "\"\"\"\n",
    "#basic chosing system\n",
    "def run_attempts(attempts, env):\n",
    "    tracking_list = []\n",
    "    for i in range(attempts):\n",
    "        select_arm = random.randint(1, 12)\n",
    "        select_val = random.randint(0, 9)\n",
    "        current_val = env[select_arm][select_val]\n",
    "        tracking_list.append(current_val)#save in a list\n",
    "    total_reward = sum(tracking_list)\n",
    "    return tracking_list, total_reward\n",
    "\"\"\""
   ]
  },
  {
   "cell_type": "code",
   "execution_count": null,
   "id": "ec7666c7",
   "metadata": {},
   "outputs": [],
   "source": [
    "scores = np.asarray(scores)\n",
    "plt.plot(scores)\n",
    "plt.xlabel(\"Rewards\")\n",
    "plt.ylabel(\"Steps\")\n",
    "plt.title(\"Scores\")\n",
    "plt.show()"
   ]
  },
  {
   "cell_type": "code",
   "execution_count": null,
   "id": "aa9682eb",
   "metadata": {},
   "outputs": [],
   "source": [
    "#print(tracking_list, '\\n')\n",
    "#print(arm_chosen, '\\n')\n",
    "#print(known_vals, '\\n')"
   ]
  },
  {
   "cell_type": "code",
   "execution_count": null,
   "id": "b8438612",
   "metadata": {},
   "outputs": [],
   "source": []
  },
  {
   "cell_type": "code",
   "execution_count": null,
   "id": "fefe5502",
   "metadata": {},
   "outputs": [],
   "source": []
  },
  {
   "cell_type": "code",
   "execution_count": null,
   "id": "2bc063b1",
   "metadata": {},
   "outputs": [],
   "source": []
  }
 ],
 "metadata": {
  "kernelspec": {
   "display_name": "Python 3 (ipykernel)",
   "language": "python",
   "name": "python3"
  },
  "language_info": {
   "codemirror_mode": {
    "name": "ipython",
    "version": 3
   },
   "file_extension": ".py",
   "mimetype": "text/x-python",
   "name": "python",
   "nbconvert_exporter": "python",
   "pygments_lexer": "ipython3",
   "version": "3.10.9"
  }
 },
 "nbformat": 4,
 "nbformat_minor": 5
}
